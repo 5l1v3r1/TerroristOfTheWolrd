{
 "cells": [
  {
   "cell_type": "code",
   "execution_count": 1,
   "metadata": {
    "collapsed": false
   },
   "outputs": [
    {
     "data": {
      "text/html": [
       "<script>requirejs.config({paths: { 'plotly': ['https://cdn.plot.ly/plotly-latest.min']},});if(!window.Plotly) {{require(['plotly'],function(plotly) {window.Plotly=plotly;});}}</script>"
      ],
      "text/plain": [
       "<IPython.core.display.HTML object>"
      ]
     },
     "metadata": {},
     "output_type": "display_data"
    },
    {
     "data": {
      "text/html": [
       "<div id=\"3fa85db8-7fda-4373-99a7-a1e7a23de5fe\" style=\"height: 525px; width: 100%;\" class=\"plotly-graph-div\"></div><script type=\"text/javascript\">require([\"plotly\"], function(Plotly) { window.PLOTLYENV=window.PLOTLYENV || {};window.PLOTLYENV.BASE_URL=\"https://plot.ly\";Plotly.newPlot(\"3fa85db8-7fda-4373-99a7-a1e7a23de5fe\", [{\"type\": \"choropleth\", \"locationmode\": \"country names\", \"locations\": [\"Iraq\", \"Afghanistan\", \"Pakistan\", \"India\", \"Nigeria\", \"Sri Lanka\", \"Peru\", \"El Salvador\", \"Algeria\", \"Syrian Arab Republic\", \"Philippines\", \"Somalia\", \"Yemen\", \"Turkey\", \"Guatemala\", \"Burundi\", \"Russian Federation\", \"Lebanon\", \"Rwanda\", \"United Kingdom\", \"Sudan\", \"Uganda\", \"Congo, the Democratic Republic of the\", \"Mozambique\", \"South Africa\", \"Thailand\", \"Egypt\", \"United States\", \"Ukraine\", \"Nepal\", \"Cameroon\", \"Kenya\", \"Israel\", \"Libya\", \"Iran, Islamic Republic of\", \"Ethiopia\", \"Palestine, State of\", \"South Sudan\", \"Spain\", \"Central African Republic\", \"Niger\", \"Bangladesh\", \"Indonesia\", \"Chad\", \"Myanmar\", \"China\", \"Mali\", \"Sierra Leone\", \"Mexico\", \"Cambodia\", \"Argentina\", \"Saudi Arabia\", \"France\", \"Italy\", \"Canada\", \"Haiti\", \"Senegal\", \"Tajikistan\", \"Honduras\", \"Georgia\", \"Djibouti\", \"Tunisia\", \"Greece\", \"Croatia\", \"C\\u00f4te d'Ivoire\", \"Namibia\", \"Chile\", \"Guinea\", \"Zimbabwe\", \"Venezuela, Bolivarian Republic of\", \"Brazil\", \"Liberia\", \"Congo\", \"Zimbabwe\", \"Malaysia\"], \"z\": [56914, 26295, 20854, 17940, 17297, 15132, 12385, 11849, 10961, 9869, 8487, 6628, 6252, 5529, 5048, 4076, 4071, 3917, 3226, 3211, 3209, 2958, 2864, 2575, 2541, 2486, 2241, 2189, 2113, 1952, 1820, 1719, 1670, 1650, 1618, 1408, 1330, 1292, 1226, 1198, 1130, 1092, 1030, 1029, 961, 919, 839, 838, 665, 543, 483, 454, 424, 410, 342, 324, 318, 301, 298, 274, 274, 274, 258, 248, 243, 220, 216, 212, 211, 203, 185, 177, 151, 146, 127], \"text\": [\"Iraq\", \"Afghanistan\", \"Pakistan\", \"India\", \"Nigeria\", \"Sri Lanka\", \"Peru\", \"El Salvador\", \"Algeria\", \"Syrian Arab Republic\", \"Philippines\", \"Somalia\", \"Yemen\", \"Turkey\", \"Guatemala\", \"Burundi\", \"Russian Federation\", \"Lebanon\", \"Rwanda\", \"United Kingdom\", \"Sudan\", \"Uganda\", \"Congo, the Democratic Republic of the\", \"Mozambique\", \"South Africa\", \"Thailand\", \"Egypt\", \"United States\", \"Ukraine\", \"Nepal\", \"Cameroon\", \"Kenya\", \"Israel\", \"Libya\", \"Iran, Islamic Republic of\", \"Ethiopia\", \"Palestine, State of\", \"South Sudan\", \"Spain\", \"Central African Republic\", \"Niger\", \"Bangladesh\", \"Indonesia\", \"Chad\", \"Myanmar\", \"China\", \"Mali\", \"Sierra Leone\", \"Mexico\", \"Cambodia\", \"Argentina\", \"Saudi Arabia\", \"France\", \"Italy\", \"Canada\", \"Haiti\", \"Senegal\", \"Tajikistan\", \"Honduras\", \"Georgia\", \"Djibouti\", \"Tunisia\", \"Greece\", \"Croatia\", \"C\\u00f4te d'Ivoire\", \"Namibia\", \"Chile\", \"Guinea\", \"Zimbabwe\", \"Venezuela, Bolivarian Republic of\", \"Brazil\", \"Liberia\", \"Congo\", \"Zimbabwe\", \"Malaysia\"], \"colorscale\": \"Electric\", \"autocolorscale\": false, \"reversescale\": true, \"marker\": {\"line\": {\"color\": \"rgb(180,180,180)\", \"width\": 0.5}}, \"colorbar\": {\"autotick\": false, \"title\": \"fatalities<br>per 1.000\"}}], {\"title\": \"1970-2015 Terrorism Attack<br>Source:            <a href=\\\"http://start.umd.edu/gtd/\\\">            GTD Global Terrorism Database</a>\", \"geo\": {\"showframe\": false, \"showcoastlines\": true, \"showcountries\": true, \"projection\": {\"type\": \"Mercator\"}}}, {\"showLink\": true, \"linkText\": \"Export to plot.ly\"})});</script>"
      ],
      "text/plain": [
       "<IPython.core.display.HTML object>"
      ]
     },
     "metadata": {},
     "output_type": "display_data"
    }
   ],
   "source": [
    "# Plot a thematic - Top Terrorism Countries of the World (1970-2015).\n",
    "import plotly.plotly as py\n",
    "import plotly.graph_objs as go\n",
    "from plotly import tools\n",
    "from plotly.offline import iplot, init_notebook_mode\n",
    "%matplotlib inline\n",
    "import pandas as pd\n",
    "\n",
    "init_notebook_mode(connected=True)\n",
    "\n",
    "df = pd.read_csv(\"top_terror_countries.csv\")\n",
    "locations = df[\"country_name_iso2\"]\n",
    "\n",
    "data = [ dict(\n",
    "        type = 'choropleth',\n",
    "        locationmode =\"country names\", \n",
    "        locations = df[\"country_name_iso2\"],\n",
    "        z = df['fatalities'],\n",
    "        text = df[\"country_name_iso2\"],\n",
    "        colorscale = 'Electric'  ,         \n",
    "        autocolorscale = False,\n",
    "        reversescale = True,\n",
    "        marker = dict(\n",
    "            line = dict (\n",
    "                color = 'rgb(180,180,180)',\n",
    "                width = 0.5\n",
    "            ) ),\n",
    "        colorbar = dict(\n",
    "            autotick = False,\n",
    "            #tickprefix = '$',\n",
    "            title = 'fatalities<br>per 1.000'),\n",
    "      ) ]\n",
    "\n",
    "layout = dict(\n",
    "    title = '1970-2015 Terrorism Attack<br>Source:\\\n",
    "            <a href=\"http://start.umd.edu/gtd/\">\\\n",
    "            GTD Global Terrorism Database</a>',\n",
    "    geo = dict(\n",
    "        showframe = False,\n",
    "        showcoastlines = True,\n",
    "        showcountries = True,\n",
    "        projection = dict(\n",
    "            type = 'Mercator'\n",
    "    \n",
    "        )\n",
    "    )\n",
    ")\n",
    "\n",
    "fig = dict( data=data, layout=layout )\n",
    "iplot( fig, validate=False, filename='d3-world-map' )"
   ]
  },
  {
   "cell_type": "code",
   "execution_count": null,
   "metadata": {
    "collapsed": true
   },
   "outputs": [],
   "source": []
  }
 ],
 "metadata": {
  "kernelspec": {
   "display_name": "Python 3",
   "language": "python",
   "name": "python3"
  },
  "language_info": {
   "codemirror_mode": {
    "name": "ipython",
    "version": 3
   },
   "file_extension": ".py",
   "mimetype": "text/x-python",
   "name": "python",
   "nbconvert_exporter": "python",
   "pygments_lexer": "ipython3",
   "version": "3.6.0"
  }
 },
 "nbformat": 4,
 "nbformat_minor": 2
}
